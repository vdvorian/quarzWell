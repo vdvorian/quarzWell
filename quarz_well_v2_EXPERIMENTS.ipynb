{
 "cells": [
  {
   "cell_type": "markdown",
   "id": "08edf0ce",
   "metadata": {},
   "source": [
    "# Рубрика Эксперименты"
   ]
  },
  {
   "cell_type": "code",
   "execution_count": 63,
   "id": "e58c4b69",
   "metadata": {},
   "outputs": [],
   "source": [
    "# импортируем библиотеки\n",
    "import math\n",
    "import numpy as np\n",
    "import scipy.integrate as integrate   # для решения ОДУ в методе DEM\n",
    "import matplotlib.pyplot as plt\n",
    "import matplotlib\n",
    "import pandas as pd\n",
    "\n",
    "# выставляем размер шрифта подписей осей ко всем графикам\n",
    "matplotlib.rc('xtick', labelsize = 12) \n",
    "matplotlib.rc('ytick', labelsize = 12) \n",
    "\n",
    "turquoise = '#40E0D0'"
   ]
  },
  {
   "cell_type": "code",
   "execution_count": 64,
   "id": "5659c592",
   "metadata": {},
   "outputs": [],
   "source": [
    "# импортируем из другие Jupyter Notebook-и\n",
    "%run ./FP_formulas.ipynb\n",
    "%run ./quarz_well_v2.ipynb"
   ]
  },
  {
   "cell_type": "markdown",
   "id": "a8a053af",
   "metadata": {},
   "source": [
    "# Допустимая невязка"
   ]
  },
  {
   "cell_type": "raw",
   "id": "c61c0af2",
   "metadata": {},
   "source": [
    "Попробуем найти оптимальное по точности и затратности ресурсов значение невязки (allowable_error)."
   ]
  },
  {
   "cell_type": "code",
   "execution_count": 66,
   "id": "64afe2f9",
   "metadata": {},
   "outputs": [],
   "source": [
    "al_error_005 = []\n",
    "al_error_01 = []\n",
    "al_error_015 = []\n",
    "al_error_02 = []\n",
    "al_error_03 = []\n",
    "al_error_05 = []"
   ]
  },
  {
   "cell_type": "code",
   "execution_count": 70,
   "id": "c897e466",
   "metadata": {},
   "outputs": [],
   "source": [
    "for _ in range(1):\n",
    "    allowable_error = 0.05\n",
    "    al_error_005.append(do_inverse_problem(true_well_vp, true_well_vs, true_well_rho, sample_number, allowable_error, \n",
    "                        por_loc, por_scale, aspect_loc, aspect_scale))\n",
    "    \n",
    "    allowable_error = 0.1\n",
    "    al_error_01.append(do_inverse_problem(true_well_vp, true_well_vs, true_well_rho, sample_number, allowable_error, \n",
    "                        por_loc, por_scale, aspect_loc, aspect_scale))\n",
    "    \n",
    "    allowable_error = 0.15\n",
    "    al_error_015.append(do_inverse_problem(true_well_vp, true_well_vs, true_well_rho, sample_number, allowable_error, \n",
    "                        por_loc, por_scale, aspect_loc, aspect_scale))\n",
    "    \n",
    "    allowable_error = 0.2\n",
    "    al_error_02.append(do_inverse_problem(true_well_vp, true_well_vs, true_well_rho, sample_number, allowable_error, \n",
    "                        por_loc, por_scale, aspect_loc, aspect_scale))\n",
    "    \n",
    "    allowable_error = 0.3\n",
    "    al_error_03.append(do_inverse_problem(true_well_vp, true_well_vs, true_well_rho, sample_number, allowable_error, \n",
    "                        por_loc, por_scale, aspect_loc, aspect_scale))\n",
    "    \n",
    "    allowable_error = 0.5\n",
    "    al_error_05.append(do_inverse_problem(true_well_vp, true_well_vs, true_well_rho, sample_number, allowable_error, \n",
    "                        por_loc, por_scale, aspect_loc, aspect_scale))"
   ]
  },
  {
   "cell_type": "code",
   "execution_count": null,
   "id": "46d27e05",
   "metadata": {},
   "outputs": [],
   "source": [
    "def get_loss(ideal_list, non_ideal_list):\n",
    "    ideal = np.array(ideal_list)\n",
    "    non_ideal = np.array(non_ideal_list)\n",
    "    \n",
    "    return np.sum((ideal - non_ideal)**2)/len(ideal_list)"
   ]
  }
 ],
 "metadata": {
  "kernelspec": {
   "display_name": "Python 3 (ipykernel)",
   "language": "python",
   "name": "python3"
  },
  "language_info": {
   "codemirror_mode": {
    "name": "ipython",
    "version": 3
   },
   "file_extension": ".py",
   "mimetype": "text/x-python",
   "name": "python",
   "nbconvert_exporter": "python",
   "pygments_lexer": "ipython3",
   "version": "3.9.12"
  }
 },
 "nbformat": 4,
 "nbformat_minor": 5
}
